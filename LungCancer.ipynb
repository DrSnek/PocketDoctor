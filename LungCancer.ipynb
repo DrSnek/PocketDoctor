{
  "nbformat": 4,
  "nbformat_minor": 0,
  "metadata": {
    "colab": {
      "provenance": [],
      "include_colab_link": true
    },
    "kernelspec": {
      "name": "python3",
      "display_name": "Python 3"
    },
    "language_info": {
      "name": "python"
    }
  },
  "cells": [
    {
      "cell_type": "markdown",
      "metadata": {
        "id": "view-in-github",
        "colab_type": "text"
      },
      "source": [
        "<a href=\"https://colab.research.google.com/github/DrSnek/Doctor/blob/main/LungCancer.ipynb\" target=\"_parent\"><img src=\"https://colab.research.google.com/assets/colab-badge.svg\" alt=\"Open In Colab\"/></a>"
      ]
    },
    {
      "cell_type": "markdown",
      "source": [
        "##Imports:"
      ],
      "metadata": {
        "id": "eVd-93LpZFW7"
      }
    },
    {
      "cell_type": "code",
      "execution_count": 45,
      "metadata": {
        "id": "x2Qrypc4Ka9W"
      },
      "outputs": [],
      "source": [
        "import numpy as np\n",
        "import pandas as pd\n",
        "import seaborn as sns\n",
        "import matplotlib.pyplot as plt\n",
        "import keras\n",
        "\n",
        "from sklearn.compose import ColumnTransformer\n",
        "from sklearn.pipeline import Pipeline\n",
        "from sklearn.preprocessing import StandardScaler\n",
        "from sklearn.preprocessing import OneHotEncoder\n",
        "from sklearn.preprocessing import RobustScaler\n",
        "\n",
        "from sklearn.model_selection import train_test_split\n",
        "from sklearn.model_selection import GridSearchCV\n",
        "from sklearn.model_selection import RepeatedStratifiedKFold\n",
        "\n",
        "from sklearn import metrics\n",
        "from sklearn.metrics import confusion_matrix\n",
        "from sklearn.metrics import accuracy_score\n",
        "from sklearn.metrics import classification_report\n",
        "\n",
        "import itertools\n",
        "from sklearn.impute import SimpleImputer\n",
        "\n",
        "from sklearn import model_selection\n",
        "from sklearn.neighbors import KNeighborsClassifier\n",
        "from sklearn.svm import SVC\n",
        "from sklearn.linear_model import LogisticRegression\n",
        "from sklearn.tree import DecisionTreeClassifier\n",
        "from sklearn.ensemble import RandomForestClassifier\n",
        "from sklearn.neural_network import MLPClassifier\n",
        "from sklearn import svm\n",
        "\n",
        "from imblearn.over_sampling import SMOTE\n",
        "from imblearn.under_sampling import RandomUnderSampler\n",
        "from imblearn.over_sampling import RandomOverSampler\n",
        "from sklearn.metrics import confusion_matrix\n",
        "from sklearn.model_selection import train_test_split\n",
        "from sklearn.naive_bayes import MultinomialNB\n",
        "from sklearn.tree import DecisionTreeClassifier\n",
        "from sklearn.svm import SVC\n",
        "from sklearn.ensemble import RandomForestClassifier\n",
        "from sklearn.metrics import accuracy_score"
      ]
    },
    {
      "cell_type": "code",
      "source": [
        "url = \"https://drive.google.com/file/d/1cwDX0wo5x4wNDsHVKQQbNnzghhmEJM_X/view?usp=sharing\"\n",
        "url='https://drive.google.com/uc?id=' + url.split('/')[-2]\n",
        "df = pd.read_csv(url)\n",
        "df.head()"
      ],
      "metadata": {
        "colab": {
          "base_uri": "https://localhost:8080/",
          "height": 206
        },
        "id": "EGB3T_DVMyTg",
        "outputId": "00b5dfd9-87d6-46c3-c58e-46ea19698a4f"
      },
      "execution_count": 49,
      "outputs": [
        {
          "output_type": "execute_result",
          "data": {
            "text/plain": [
              "   GENDER  AGE  SMOKING  YELLOW_FINGERS  ANXIETY  CHRONIC DISEASE  WHEEZING  \\\n",
              "0       1   69        1               1        1                0         1   \n",
              "1       1   74        1               0        0                1         0   \n",
              "2       0   59        0               0        0                0         1   \n",
              "3       1   63        1               1        1                0         0   \n",
              "4       0   63        0               1        0                0         1   \n",
              "\n",
              "   ALCOHOL CONSUMING  COUGHING  SHORTNESS OF BREATH  SWALLOWING DIFFICULTY  \\\n",
              "0                  1         1                    1                      1   \n",
              "1                  0         0                    1                      1   \n",
              "2                  0         1                    1                      0   \n",
              "3                  1         0                    0                      1   \n",
              "4                  0         1                    1                      0   \n",
              "\n",
              "   CHEST PAIN  LUNG_CANCER  \n",
              "0           1            1  \n",
              "1           1            1  \n",
              "2           1            0  \n",
              "3           1            0  \n",
              "4           0            0  "
            ],
            "text/html": [
              "\n",
              "  <div id=\"df-25e66f33-e15e-4367-b255-e320419745b1\">\n",
              "    <div class=\"colab-df-container\">\n",
              "      <div>\n",
              "<style scoped>\n",
              "    .dataframe tbody tr th:only-of-type {\n",
              "        vertical-align: middle;\n",
              "    }\n",
              "\n",
              "    .dataframe tbody tr th {\n",
              "        vertical-align: top;\n",
              "    }\n",
              "\n",
              "    .dataframe thead th {\n",
              "        text-align: right;\n",
              "    }\n",
              "</style>\n",
              "<table border=\"1\" class=\"dataframe\">\n",
              "  <thead>\n",
              "    <tr style=\"text-align: right;\">\n",
              "      <th></th>\n",
              "      <th>GENDER</th>\n",
              "      <th>AGE</th>\n",
              "      <th>SMOKING</th>\n",
              "      <th>YELLOW_FINGERS</th>\n",
              "      <th>ANXIETY</th>\n",
              "      <th>CHRONIC DISEASE</th>\n",
              "      <th>WHEEZING</th>\n",
              "      <th>ALCOHOL CONSUMING</th>\n",
              "      <th>COUGHING</th>\n",
              "      <th>SHORTNESS OF BREATH</th>\n",
              "      <th>SWALLOWING DIFFICULTY</th>\n",
              "      <th>CHEST PAIN</th>\n",
              "      <th>LUNG_CANCER</th>\n",
              "    </tr>\n",
              "  </thead>\n",
              "  <tbody>\n",
              "    <tr>\n",
              "      <th>0</th>\n",
              "      <td>1</td>\n",
              "      <td>69</td>\n",
              "      <td>1</td>\n",
              "      <td>1</td>\n",
              "      <td>1</td>\n",
              "      <td>0</td>\n",
              "      <td>1</td>\n",
              "      <td>1</td>\n",
              "      <td>1</td>\n",
              "      <td>1</td>\n",
              "      <td>1</td>\n",
              "      <td>1</td>\n",
              "      <td>1</td>\n",
              "    </tr>\n",
              "    <tr>\n",
              "      <th>1</th>\n",
              "      <td>1</td>\n",
              "      <td>74</td>\n",
              "      <td>1</td>\n",
              "      <td>0</td>\n",
              "      <td>0</td>\n",
              "      <td>1</td>\n",
              "      <td>0</td>\n",
              "      <td>0</td>\n",
              "      <td>0</td>\n",
              "      <td>1</td>\n",
              "      <td>1</td>\n",
              "      <td>1</td>\n",
              "      <td>1</td>\n",
              "    </tr>\n",
              "    <tr>\n",
              "      <th>2</th>\n",
              "      <td>0</td>\n",
              "      <td>59</td>\n",
              "      <td>0</td>\n",
              "      <td>0</td>\n",
              "      <td>0</td>\n",
              "      <td>0</td>\n",
              "      <td>1</td>\n",
              "      <td>0</td>\n",
              "      <td>1</td>\n",
              "      <td>1</td>\n",
              "      <td>0</td>\n",
              "      <td>1</td>\n",
              "      <td>0</td>\n",
              "    </tr>\n",
              "    <tr>\n",
              "      <th>3</th>\n",
              "      <td>1</td>\n",
              "      <td>63</td>\n",
              "      <td>1</td>\n",
              "      <td>1</td>\n",
              "      <td>1</td>\n",
              "      <td>0</td>\n",
              "      <td>0</td>\n",
              "      <td>1</td>\n",
              "      <td>0</td>\n",
              "      <td>0</td>\n",
              "      <td>1</td>\n",
              "      <td>1</td>\n",
              "      <td>0</td>\n",
              "    </tr>\n",
              "    <tr>\n",
              "      <th>4</th>\n",
              "      <td>0</td>\n",
              "      <td>63</td>\n",
              "      <td>0</td>\n",
              "      <td>1</td>\n",
              "      <td>0</td>\n",
              "      <td>0</td>\n",
              "      <td>1</td>\n",
              "      <td>0</td>\n",
              "      <td>1</td>\n",
              "      <td>1</td>\n",
              "      <td>0</td>\n",
              "      <td>0</td>\n",
              "      <td>0</td>\n",
              "    </tr>\n",
              "  </tbody>\n",
              "</table>\n",
              "</div>\n",
              "      <button class=\"colab-df-convert\" onclick=\"convertToInteractive('df-25e66f33-e15e-4367-b255-e320419745b1')\"\n",
              "              title=\"Convert this dataframe to an interactive table.\"\n",
              "              style=\"display:none;\">\n",
              "        \n",
              "  <svg xmlns=\"http://www.w3.org/2000/svg\" height=\"24px\"viewBox=\"0 0 24 24\"\n",
              "       width=\"24px\">\n",
              "    <path d=\"M0 0h24v24H0V0z\" fill=\"none\"/>\n",
              "    <path d=\"M18.56 5.44l.94 2.06.94-2.06 2.06-.94-2.06-.94-.94-2.06-.94 2.06-2.06.94zm-11 1L8.5 8.5l.94-2.06 2.06-.94-2.06-.94L8.5 2.5l-.94 2.06-2.06.94zm10 10l.94 2.06.94-2.06 2.06-.94-2.06-.94-.94-2.06-.94 2.06-2.06.94z\"/><path d=\"M17.41 7.96l-1.37-1.37c-.4-.4-.92-.59-1.43-.59-.52 0-1.04.2-1.43.59L10.3 9.45l-7.72 7.72c-.78.78-.78 2.05 0 2.83L4 21.41c.39.39.9.59 1.41.59.51 0 1.02-.2 1.41-.59l7.78-7.78 2.81-2.81c.8-.78.8-2.07 0-2.86zM5.41 20L4 18.59l7.72-7.72 1.47 1.35L5.41 20z\"/>\n",
              "  </svg>\n",
              "      </button>\n",
              "      \n",
              "  <style>\n",
              "    .colab-df-container {\n",
              "      display:flex;\n",
              "      flex-wrap:wrap;\n",
              "      gap: 12px;\n",
              "    }\n",
              "\n",
              "    .colab-df-convert {\n",
              "      background-color: #E8F0FE;\n",
              "      border: none;\n",
              "      border-radius: 50%;\n",
              "      cursor: pointer;\n",
              "      display: none;\n",
              "      fill: #1967D2;\n",
              "      height: 32px;\n",
              "      padding: 0 0 0 0;\n",
              "      width: 32px;\n",
              "    }\n",
              "\n",
              "    .colab-df-convert:hover {\n",
              "      background-color: #E2EBFA;\n",
              "      box-shadow: 0px 1px 2px rgba(60, 64, 67, 0.3), 0px 1px 3px 1px rgba(60, 64, 67, 0.15);\n",
              "      fill: #174EA6;\n",
              "    }\n",
              "\n",
              "    [theme=dark] .colab-df-convert {\n",
              "      background-color: #3B4455;\n",
              "      fill: #D2E3FC;\n",
              "    }\n",
              "\n",
              "    [theme=dark] .colab-df-convert:hover {\n",
              "      background-color: #434B5C;\n",
              "      box-shadow: 0px 1px 3px 1px rgba(0, 0, 0, 0.15);\n",
              "      filter: drop-shadow(0px 1px 2px rgba(0, 0, 0, 0.3));\n",
              "      fill: #FFFFFF;\n",
              "    }\n",
              "  </style>\n",
              "\n",
              "      <script>\n",
              "        const buttonEl =\n",
              "          document.querySelector('#df-25e66f33-e15e-4367-b255-e320419745b1 button.colab-df-convert');\n",
              "        buttonEl.style.display =\n",
              "          google.colab.kernel.accessAllowed ? 'block' : 'none';\n",
              "\n",
              "        async function convertToInteractive(key) {\n",
              "          const element = document.querySelector('#df-25e66f33-e15e-4367-b255-e320419745b1');\n",
              "          const dataTable =\n",
              "            await google.colab.kernel.invokeFunction('convertToInteractive',\n",
              "                                                     [key], {});\n",
              "          if (!dataTable) return;\n",
              "\n",
              "          const docLinkHtml = 'Like what you see? Visit the ' +\n",
              "            '<a target=\"_blank\" href=https://colab.research.google.com/notebooks/data_table.ipynb>data table notebook</a>'\n",
              "            + ' to learn more about interactive tables.';\n",
              "          element.innerHTML = '';\n",
              "          dataTable['output_type'] = 'display_data';\n",
              "          await google.colab.output.renderOutput(dataTable, element);\n",
              "          const docLink = document.createElement('div');\n",
              "          docLink.innerHTML = docLinkHtml;\n",
              "          element.appendChild(docLink);\n",
              "        }\n",
              "      </script>\n",
              "    </div>\n",
              "  </div>\n",
              "  "
            ]
          },
          "metadata": {},
          "execution_count": 49
        }
      ]
    },
    {
      "cell_type": "code",
      "source": [
        "def print_accuracy(y_test, y_pred):\n",
        "  print(\"%-12s %f\" % ('Accuracy:', metrics.accuracy_score(y_test, y_pred)))\n",
        "  print(\"%-12s %f\" % ('Precision:', metrics.precision_score(y_test, y_pred,labels=None, pos_label=1, average='binary', sample_weight=None)))\n",
        "  print(\"%-12s %f\" % ('Recall:', metrics.recall_score(y_test, y_pred,labels=None, pos_label=1, average='binary', sample_weight=None)))\n",
        "  print(\"%-12s %f\" % ('F1 Score:', metrics.f1_score(y_test, y_pred, labels=None, pos_label=1, average='binary', sample_weight=None)))\n",
        "  print()\n",
        "\n",
        "def draw_confusion_matrix(y_test, y_pred, classes):\n",
        "  plt.cla()\n",
        "  plt.clf()\n",
        "  matrix = confusion_matrix(y_test, y_pred)\n",
        "  plt.imshow(matrix, interpolation='nearest', cmap=plt.cm.Blues)\n",
        "  plt.title(\"Confusion Matrix\")\n",
        "  plt.colorbar()\n",
        "  num_classes = len(classes)\n",
        "  plt.xticks(np.arange(num_classes), classes, rotation=90)\n",
        "  plt.yticks(np.arange(num_classes), classes)\n",
        "  fmt = 'd'\n",
        "  thresh = matrix.max() / 2.\n",
        "  import itertools\n",
        "  for i, j in itertools.product(range(matrix.shape[0]), range(matrix.shape[1])):\n",
        "    plt.text(j, i, format(matrix[i, j], fmt), horizontalalignment=\"center\", color=\"white\" if matrix[i, j] > thresh else \"black\")\n",
        "  plt.ylabel('True label')\n",
        "  plt.xlabel('Predicted label')\n",
        "  plt.tight_layout()\n",
        "  plt.show()\n",
        "  print()"
      ],
      "metadata": {
        "id": "6UZsZYBdif1l"
      },
      "execution_count": 50,
      "outputs": []
    },
    {
      "cell_type": "code",
      "source": [
        "def draw_roc_curve(y_test, y_score, title, c=\"blue\", line_width=1):\n",
        "  fpr_log_reg, tpr_log_reg, thresholds = metrics.roc_curve(y_test, y_score)\n",
        "  plt.figure(2)\n",
        "  aucroc = metrics.auc(fpr_log_reg, tpr_log_reg)\n",
        "  plt.plot(fpr_log_reg, tpr_log_reg, color=c, lw=line_width, label = 'AUC = %0.3f' % aucroc)\n",
        "  plt.title(title)\n",
        "  plt.xlabel('False Positive Rates')\n",
        "  plt.ylabel('True Positive Rates')\n",
        "  plt.legend(loc = 'lower right')\n",
        "  plt.show()\n",
        "  print()\n",
        "\n",
        "def draw_roc_curve_individual(y_test, y_score, label, line_width=1):\n",
        "  fpr_log_reg, tpr_log_reg, thresholds = metrics.roc_curve(y_test, y_score)\n",
        "  # plt.figure(2)\n",
        "  aucroc = metrics.auc(fpr_log_reg, tpr_log_reg)\n",
        "  plt.plot(fpr_log_reg, tpr_log_reg, lw=line_width, label = label + ', AUC = %0.3f' % aucroc)\n",
        "  # plt.title(title)\n",
        "  plt.xlabel('False Positive Rates')\n",
        "  plt.ylabel('True Positive Rates')"
      ],
      "metadata": {
        "id": "yNHFmLPyihJe"
      },
      "execution_count": 51,
      "outputs": []
    },
    {
      "cell_type": "markdown",
      "source": [
        "##Data Analysis:"
      ],
      "metadata": {
        "id": "NqUntHaBZMsv"
      }
    },
    {
      "cell_type": "code",
      "source": [
        "sns.pairplot(data = df, hue = 'LUNG_CANCER')"
      ],
      "metadata": {
        "id": "xz0b-XQKZPv1"
      },
      "execution_count": null,
      "outputs": []
    },
    {
      "cell_type": "code",
      "source": [
        "sns.heatmap(df.corr())"
      ],
      "metadata": {
        "id": "tf55Eb8DcJP8"
      },
      "execution_count": null,
      "outputs": []
    },
    {
      "cell_type": "markdown",
      "source": [
        "##Model:"
      ],
      "metadata": {
        "id": "nclSsQOxcBOG"
      }
    },
    {
      "cell_type": "code",
      "source": [
        "user_backup = df\n",
        "X = df.drop(\"LUNG_CANCER\", axis = 1)\n",
        "Y = df[\"LUNG_CANCER\"].copy()\n",
        "\n",
        "print(\"X shape before processing is\", X.shape)\n",
        "df_numerical = X.drop([\"GENDER\", \"SMOKING\", \"YELLOW_FINGERS\", \"ANXIETY\", \"CHRONIC DISEASE\", \"WHEEZING\", \"ALCOHOL CONSUMING\", \"COUGHING\", \"SHORTNESS OF BREATH\", \"SWALLOWING DIFFICULTY\", \"CHEST PAIN\"], axis = 1)\n",
        "\n",
        "numerical_pipeline = Pipeline([\n",
        "                               (\"std_scaler\", StandardScaler())\n",
        "                               ])\n",
        "\n",
        "numerical_features = list(df_numerical)\n",
        "categorical_features = [\"GENDER\", \"SMOKING\", \"YELLOW_FINGERS\", \"ANXIETY\", \"CHRONIC DISEASE\", \"WHEEZING\", \"ALCOHOL CONSUMING\", \"COUGHING\", \"SHORTNESS OF BREATH\", \"SWALLOWING DIFFICULTY\", \"CHEST PAIN\"]\n",
        "\n",
        "full_pipeline = ColumnTransformer([\n",
        "                (\"numerical\", numerical_pipeline, numerical_features), \n",
        "                (\"categorical\", OneHotEncoder(), categorical_features)\n",
        "                ])\n",
        "X_prepared = full_pipeline.fit_transform(X)\n",
        "\n",
        "print(\"X shape after processing is\", X_prepared.shape)"
      ],
      "metadata": {
        "id": "YIiWJAdvcDC9",
        "colab": {
          "base_uri": "https://localhost:8080/"
        },
        "outputId": "d224e6d7-33bd-48a0-d0be-46fdb2298b33"
      },
      "execution_count": 52,
      "outputs": [
        {
          "output_type": "stream",
          "name": "stdout",
          "text": [
            "X shape before processing is (309, 12)\n",
            "X shape after processing is (309, 23)\n"
          ]
        }
      ]
    },
    {
      "cell_type": "code",
      "source": [
        "x_train, x_test, y_train, y_test = train_test_split(X_prepared, Y, test_size = 0.3, random_state = 42)"
      ],
      "metadata": {
        "id": "KwNM0LZnex6v"
      },
      "execution_count": 53,
      "outputs": []
    },
    {
      "cell_type": "code",
      "source": [
        "'''\n",
        "model = MultinomialNB(alpha = 1.0)\n",
        "model.fit(x_train,y_train)\n",
        "y_pred = model.predict(x_test)\n",
        "print(\"Accuracy Score for Naive Bayes: \", (accuracy_score(y_pred,y_test) * 100),\"%\")\n",
        "'''"
      ],
      "metadata": {
        "id": "UgvO37y5f0p-"
      },
      "execution_count": null,
      "outputs": []
    },
    {
      "cell_type": "markdown",
      "source": [
        "###Decision Tree Classifier"
      ],
      "metadata": {
        "id": "SmEDzjUXiBQp"
      }
    },
    {
      "cell_type": "code",
      "source": [
        "clf = DecisionTreeClassifier()\n",
        "clf.fit(x_train, y_train)\n",
        "pred = clf.predict(x_test)"
      ],
      "metadata": {
        "id": "Ls88D6MWiBAh"
      },
      "execution_count": 54,
      "outputs": []
    },
    {
      "cell_type": "code",
      "source": [
        "print_accuracy(y_test, pred)\n",
        "draw_confusion_matrix(y_test, pred, [\"Not prone to Lung Cancer\", \"Prone to Lung Cancer\"])\n",
        "draw_roc_curve(y_test, pred, \"Decision Tree Classifier - optimized hyperparameters \", c=\"blue\", line_width=1)"
      ],
      "metadata": {
        "colab": {
          "base_uri": "https://localhost:8080/",
          "height": 696
        },
        "id": "OLbgzjPKiUQT",
        "outputId": "b8eae3b9-ec7f-447f-d055-ef36b30277f1"
      },
      "execution_count": 55,
      "outputs": [
        {
          "output_type": "stream",
          "name": "stdout",
          "text": [
            "Accuracy:    0.967742\n",
            "Precision:   0.977011\n",
            "Recall:      0.988372\n",
            "F1 Score:    0.982659\n",
            "\n"
          ]
        },
        {
          "output_type": "display_data",
          "data": {
            "text/plain": [
              "<Figure size 432x288 with 2 Axes>"
            ],
            "image/png": "[encoded data removed]"
          },
          "metadata": {
            "needs_background": "light"
          }
        },
        {
          "output_type": "stream",
          "name": "stdout",
          "text": [
            "\n"
          ]
        },
        {
          "output_type": "display_data",
          "data": {
            "text/plain": [
              "<Figure size 432x288 with 1 Axes>"
            ],
            "image/png": "[encoded data removed]"
          },
          "metadata": {
            "needs_background": "light"
          }
        },
        {
          "output_type": "stream",
          "name": "stdout",
          "text": [
            "\n"
          ]
        }
      ]
    },
    {
      "cell_type": "code",
      "source": [
        "cancer_placeholder = 1\n",
        "user_input = [[1, 18, 0, 0, 1, 0, 1, 1, 1, 1, 1, 1, cancer_placeholder]]\n",
        "\n",
        "user_df = pd.DataFrame(user_input, columns=[\"GENDER\", \"AGE\", \"SMOKING\", \"YELLOW_FINGERS\", \"ANXIETY\", \"CHRONIC DISEASE\", \"WHEEZING\", \"ALCOHOL CONSUMING\", \"COUGHING\", \"SHORTNESS OF BREATH\", \"SWALLOWING DIFFICULTY\", \"CHEST PAIN\", \"LUNG CANCER\"])\n",
        "df = user_backup.append(user_df, ignore_index=True)\n",
        "\n",
        "X = df.drop(\"LUNG_CANCER\", axis = 1)\n",
        "Y = df[\"LUNG_CANCER\"].copy()\n",
        "\n",
        "print(\"X shape before processing is\", X.shape)\n",
        "df_numerical = X.drop([\"GENDER\", \"SMOKING\", \"YELLOW_FINGERS\", \"ANXIETY\", \"CHRONIC DISEASE\", \"WHEEZING\", \"ALCOHOL CONSUMING\", \"COUGHING\", \"SHORTNESS OF BREATH\", \"SWALLOWING DIFFICULTY\", \"CHEST PAIN\"], axis = 1)\n",
        "print(df_numerical)\n",
        "numerical_pipeline = Pipeline([\n",
        "                               (\"std_scaler\", StandardScaler())\n",
        "                               ])\n",
        "\n",
        "numerical_features = list(df_numerical)\n",
        "categorical_features = [\"GENDER\", \"SMOKING\", \"YELLOW_FINGERS\", \"ANXIETY\", \"CHRONIC DISEASE\", \"WHEEZING\", \"ALCOHOL CONSUMING\", \"COUGHING\", \"SHORTNESS OF BREATH\", \"SWALLOWING DIFFICULTY\", \"CHEST PAIN\"]\n",
        "\n",
        "full_pipeline = ColumnTransformer([\n",
        "                (\"numerical\", numerical_pipeline, numerical_features), \n",
        "                (\"categorical\", OneHotEncoder(), categorical_features)\n",
        "                ])\n",
        "user_inp = full_pipeline.fit_transform(X)\n",
        "\n",
        "print(\"X shape after processing is\", X.shape)\n"
      ],
      "metadata": {
        "colab": {
          "base_uri": "https://localhost:8080/"
        },
        "id": "cr9lEZK3qx75",
        "outputId": "fd87419e-107e-446d-8cac-717ae7482971"
      },
      "execution_count": 56,
      "outputs": [
        {
          "output_type": "stream",
          "name": "stdout",
          "text": [
            "X shape before processing is (310, 13)\n",
            "     AGE  LUNG CANCER\n",
            "0     69          NaN\n",
            "1     74          NaN\n",
            "2     59          NaN\n",
            "3     63          NaN\n",
            "4     63          NaN\n",
            "..   ...          ...\n",
            "305   70          NaN\n",
            "306   58          NaN\n",
            "307   67          NaN\n",
            "308   62          NaN\n",
            "309   18          1.0\n",
            "\n",
            "[310 rows x 2 columns]\n",
            "X shape after processing is (310, 13)\n"
          ]
        }
      ]
    },
    {
      "cell_type": "code",
      "source": [
        "u_prepared = np.array([user_inp[-1][0:23]])\n",
        "print(u_prepared)\n",
        "y_temp = clf.predict(u_prepared)\n",
        "print(y_temp[0])"
      ],
      "metadata": {
        "colab": {
          "base_uri": "https://localhost:8080/"
        },
        "id": "6a4T_pZPsnD0",
        "outputId": "2d50f929-392b-469e-c70c-890c746f2eeb"
      },
      "execution_count": 59,
      "outputs": [
        {
          "output_type": "stream",
          "name": "stdout",
          "text": [
            "[[-5.19782412  0.          0.          1.          1.          0.\n",
            "   1.          0.          0.          1.          1.          0.\n",
            "   0.          1.          0.          1.          0.          1.\n",
            "   0.          1.          0.          1.          0.        ]]\n",
            "0\n"
          ]
        }
      ]
    }
  ]
}